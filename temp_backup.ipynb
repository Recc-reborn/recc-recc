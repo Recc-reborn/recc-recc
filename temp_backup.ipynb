{
 "cells": [
  {
   "cell_type": "code",
   "execution_count": null,
   "metadata": {},
   "outputs": [],
   "source": [
    "from sklearn.manifold import TSNE\n",
    "import matplotlib.pyplot as plt\n",
    "tsne = TSNE(perplexity=5, n_components=2, n_iter=5000, init='pca')\n",
    "\n",
    "cord = tsne.fit_transform(song_features[:50, :])\n",
    "\n",
    "songs_df = pnd.read_csv('../data/song_data.csv')\n",
    "songs_df.head()\n",
    "\n",
    "songs_df.shape\n",
    "\n",
    "temp_songs_aux = processed_dataset.merge(songs_df, on=[\"song_id\"])\n",
    "temp_songs_aux.sort_values(by=\"song_id\", inplace=True)\n",
    "\n",
    "temp_songs_aux_2 =  temp_songs_aux.drop(['user_id'], axis=1)\n",
    "\n",
    "temp_songs_aux_2\n",
    "\n",
    "temp_songs_aux_2.drop_duplicates(subset=['song_id'], inplace=True)\n",
    "\n",
    "temp_songs_aux_2.reset_index(inplace=True)\n",
    "\n",
    "print(temp_songs_aux_2.to_numpy()[:1, :])\n",
    "\n",
    "import matplotlib.pyplot as plt\n",
    "\n",
    "plt.figure(figsize=(18, 18))\n",
    "labels = [temp_songs_aux_2.iloc[i].title for i in range(50)]\n",
    "for i, label in enumerate(labels):\n",
    "    x, y = cord[i, :]\n",
    "    plt.scatter(x, y)\n",
    "    plt.annotate(label,\n",
    "                 xy=(x, y),\n",
    "                 xytext=(10, 4),\n",
    "                 textcoords=\"offset points\",\n",
    "                 ha=\"right\",\n",
    "                 va=\"bottom\")\n",
    "\n",
    "plt.show()"
   ]
  }
 ],
 "metadata": {
  "kernelspec": {
   "display_name": "Python 3",
   "language": "python",
   "name": "python3"
  },
  "language_info": {
   "name": "python",
   "version": "3.9.2"
  },
  "orig_nbformat": 4,
  "vscode": {
   "interpreter": {
    "hash": "81794d4967e6c3204c66dcd87b604927b115b27c00565d3d43f05ba2f3a2cb0d"
   }
  }
 },
 "nbformat": 4,
 "nbformat_minor": 2
}
