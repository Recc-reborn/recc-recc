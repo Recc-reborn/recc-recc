{
 "cells": [
  {
   "attachments": {},
   "cell_type": "markdown",
   "metadata": {},
   "source": [
    "# Create data set to structure [user_id, song_id, listen_count, rating]"
   ]
  },
  {
   "cell_type": "code",
   "execution_count": null,
   "metadata": {},
   "outputs": [],
   "source": [
    "import pandas as pnd\n",
    "from sklearn.decomposition import TruncatedSVD\n",
    "import numpy as np\n",
    "from scipy.sparse import csr_matrix"
   ]
  },
  {
   "cell_type": "code",
   "execution_count": null,
   "metadata": {},
   "outputs": [],
   "source": [
    "songs_df = pnd.read_csv('../data/song_data.csv')\n",
    "songs_df.head()"
   ]
  },
  {
   "cell_type": "code",
   "execution_count": null,
   "metadata": {},
   "outputs": [],
   "source": [
    "user_reporduction_df = pnd.read_csv('../data/triplets_file.csv')\n",
    "user_reporduction_df.info()"
   ]
  },
  {
   "cell_type": "code",
   "execution_count": null,
   "metadata": {},
   "outputs": [],
   "source": [
    "uniques_user_ids = user_reporduction_df['user_id'].unique()"
   ]
  },
  {
   "cell_type": "code",
   "execution_count": null,
   "metadata": {},
   "outputs": [],
   "source": [
    "test_user = uniques_user_ids[4]\n",
    "test_user_info= user_reporduction_df[user_reporduction_df['user_id'] == test_user]\n",
    "test_user_info"
   ]
  },
  {
   "cell_type": "code",
   "execution_count": null,
   "metadata": {},
   "outputs": [],
   "source": [
    "def rule_of_three(numbers: np.array):\n",
    "    min = numbers.min()\n",
    "    max = numbers.max()\n",
    "    return np.asanyarray(np.round((numbers * 5)/max))"
   ]
  },
  {
   "cell_type": "code",
   "execution_count": null,
   "metadata": {},
   "outputs": [],
   "source": [
    "rule_of_three(np.asanyarray([8, 1,2,5,4,3,6,7]))"
   ]
  },
  {
   "cell_type": "code",
   "execution_count": null,
   "metadata": {},
   "outputs": [],
   "source": [
    "listen_count = test_user_info['listen_count'].values\n",
    "test_user_info['ratings'] = rule_of_three(listen_count)\n",
    "test_user_info = test_user_info.replace({0:1})\n",
    "test_user_info\n"
   ]
  },
  {
   "cell_type": "code",
   "execution_count": null,
   "metadata": {},
   "outputs": [],
   "source": [
    "from functools import reduce\n",
    "dataframes = []\n",
    "for user in uniques_user_ids[0:2]:\n",
    "    temp_user_info= user_reporduction_df[user_reporduction_df['user_id'] == user]\n",
    "    temp_user_info['ratings'] = rule_of_three(temp_user_info['listen_count'].values)\n",
    "    print(temp_user_info)\n",
    "    dataframes.append(temp_user_info)\n",
    "\n",
    "final = pnd.DataFrame().append(dataframes)\n",
    "# final.info()\n",
    "# final.to_csv('demo.csv')\n"
   ]
  },
  {
   "cell_type": "code",
   "execution_count": null,
   "metadata": {},
   "outputs": [],
   "source": [
    "data = pnd.merge( data_2, data_1.drop_duplicates(['song_id']), on='song_id', how='left')\n",
    "data.head()"
   ]
  }
 ],
 "metadata": {
  "kernelspec": {
   "display_name": "Python 3",
   "language": "python",
   "name": "python3"
  },
  "language_info": {
   "codemirror_mode": {
    "name": "ipython",
    "version": 3
   },
   "file_extension": ".py",
   "mimetype": "text/x-python",
   "name": "python",
   "nbconvert_exporter": "python",
   "pygments_lexer": "ipython3",
   "version": "3.9.2"
  },
  "orig_nbformat": 4,
  "vscode": {
   "interpreter": {
    "hash": "81794d4967e6c3204c66dcd87b604927b115b27c00565d3d43f05ba2f3a2cb0d"
   }
  }
 },
 "nbformat": 4,
 "nbformat_minor": 2
}
