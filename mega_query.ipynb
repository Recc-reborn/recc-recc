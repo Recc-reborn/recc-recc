{
 "cells": [
  {
   "cell_type": "code",
   "execution_count": null,
   "metadata": {},
   "outputs": [],
   "source": [
    "import numpy as np\n",
    "import pandas as pnd"
   ]
  },
  {
   "cell_type": "code",
   "execution_count": null,
   "metadata": {},
   "outputs": [],
   "source": [
    "our_data = pnd.read_csv('./CVS_file_on_google_sheets_exported', usecols=['user_id', 'song_id', 'Fecha', '24_hour', 'Min', 'Seg'])                      "
   ]
  },
  {
   "cell_type": "code",
   "execution_count": null,
   "metadata": {},
   "outputs": [],
   "source": [
    "our_data"
   ]
  },
  {
   "cell_type": "code",
   "execution_count": null,
   "metadata": {},
   "outputs": [],
   "source": [
    "data_dic = our_data.to_dict('records')"
   ]
  },
  {
   "cell_type": "code",
   "execution_count": null,
   "metadata": {},
   "outputs": [],
   "source": [
    "data_dic"
   ]
  },
  {
   "cell_type": "code",
   "execution_count": null,
   "metadata": {},
   "outputs": [],
   "source": [
    "def create_megaquery(data: list[any]):\n",
    "    query_string  = \"INSERT INTO playbacks (created_at, track_id, user_id) VALUES \"\n",
    "    for item in data:\n",
    "        split_date = item['Fecha'].split('/')\n",
    "        new_date = str.join('-',split_date)\n",
    "        print(new_date)\n",
    "        time_str = f'{item[\"24_hour\"]}:{item[\"Min\"]}:{item[\"Seg\"]}'\n",
    "        print(time_str)\n",
    "        temp_str = f'(STR_TO_DATE(\"{new_date} {time_str}\" \"%m%d%Y %H:%i:%s\"), {item[\"song_id\"]}, {item[\"user_id\"]}), '\n",
    "        query_string += temp_str\n",
    "    \n",
    "    return query_string"
   ]
  },
  {
   "cell_type": "code",
   "execution_count": null,
   "metadata": {},
   "outputs": [],
   "source": [
    "create_megaquery(data_dic[:2])"
   ]
  }
 ],
 "metadata": {
  "kernelspec": {
   "display_name": "Python 3",
   "language": "python",
   "name": "python3"
  },
  "language_info": {
   "codemirror_mode": {
    "name": "ipython",
    "version": 3
   },
   "file_extension": ".py",
   "mimetype": "text/x-python",
   "name": "python",
   "nbconvert_exporter": "python",
   "pygments_lexer": "ipython3",
   "version": "3.9.2"
  },
  "orig_nbformat": 4
 },
 "nbformat": 4,
 "nbformat_minor": 2
}
