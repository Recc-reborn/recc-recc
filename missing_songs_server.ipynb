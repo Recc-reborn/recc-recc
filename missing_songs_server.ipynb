{
 "cells": [
  {
   "cell_type": "code",
   "execution_count": 2,
   "metadata": {},
   "outputs": [
    {
     "data": {
      "text/plain": [
       "True"
      ]
     },
     "execution_count": 2,
     "metadata": {},
     "output_type": "execute_result"
    }
   ],
   "source": [
    "import numpy as np\n",
    "import pandas as pnd\n",
    "from dotenv import load_dotenv\n",
    "load_dotenv()"
   ]
  },
  {
   "attachments": {},
   "cell_type": "markdown",
   "metadata": {},
   "source": [
    "### Pretty stright foward, read the cvs and then merge it whiout duplicated values and start working from there"
   ]
  },
  {
   "cell_type": "code",
   "execution_count": 3,
   "metadata": {},
   "outputs": [
    {
     "name": "stderr",
     "output_type": "stream",
     "text": [
      "C:\\Users\\eltaq\\AppData\\Roaming\\Python\\Python39\\site-packages\\numpy\\lib\\arraysetops.py:583: FutureWarning: elementwise comparison failed; returning scalar instead, but in the future will perform elementwise comparison\n",
      "  mask |= (ar1 == a)\n"
     ]
    }
   ],
   "source": [
    "song_dataset =  pnd.read_csv('../data/song_data.csv')\n",
    "ratings_dataset = pnd.read_csv('../data/user_song_ratings.csv', index_col=0)"
   ]
  },
  {
   "cell_type": "code",
   "execution_count": 4,
   "metadata": {},
   "outputs": [],
   "source": [
    "song_dataset.drop_duplicates(subset=['song_id'], keep='first', inplace=True)"
   ]
  },
  {
   "cell_type": "code",
   "execution_count": 5,
   "metadata": {},
   "outputs": [],
   "source": [
    "songs_with_ratings = pnd.DataFrame(data=ratings_dataset['song_id'].unique(), columns=['song_id'])"
   ]
  },
  {
   "cell_type": "code",
   "execution_count": 6,
   "metadata": {},
   "outputs": [],
   "source": [
    "songs_with_ratings = pnd.merge(songs_with_ratings, song_dataset, on='song_id', how='left')"
   ]
  },
  {
   "cell_type": "code",
   "execution_count": 7,
   "metadata": {},
   "outputs": [
    {
     "data": {
      "text/html": [
       "<div>\n",
       "<style scoped>\n",
       "    .dataframe tbody tr th:only-of-type {\n",
       "        vertical-align: middle;\n",
       "    }\n",
       "\n",
       "    .dataframe tbody tr th {\n",
       "        vertical-align: top;\n",
       "    }\n",
       "\n",
       "    .dataframe thead th {\n",
       "        text-align: right;\n",
       "    }\n",
       "</style>\n",
       "<table border=\"1\" class=\"dataframe\">\n",
       "  <thead>\n",
       "    <tr style=\"text-align: right;\">\n",
       "      <th></th>\n",
       "      <th>song_id</th>\n",
       "      <th>title</th>\n",
       "      <th>release</th>\n",
       "      <th>artist_name</th>\n",
       "      <th>year</th>\n",
       "    </tr>\n",
       "  </thead>\n",
       "  <tbody>\n",
       "    <tr>\n",
       "      <th>0</th>\n",
       "      <td>SOAKIMP12A8C130995</td>\n",
       "      <td>The Cove</td>\n",
       "      <td>Thicker Than Water</td>\n",
       "      <td>Jack Johnson</td>\n",
       "      <td>0</td>\n",
       "    </tr>\n",
       "    <tr>\n",
       "      <th>1</th>\n",
       "      <td>SOBBMDR12A8C13253B</td>\n",
       "      <td>Entre Dos Aguas</td>\n",
       "      <td>Flamenco Para Niños</td>\n",
       "      <td>Paco De Lucia</td>\n",
       "      <td>1976</td>\n",
       "    </tr>\n",
       "    <tr>\n",
       "      <th>2</th>\n",
       "      <td>SOBXHDL12A81C204C0</td>\n",
       "      <td>Stronger</td>\n",
       "      <td>Graduation</td>\n",
       "      <td>Kanye West</td>\n",
       "      <td>2007</td>\n",
       "    </tr>\n",
       "    <tr>\n",
       "      <th>3</th>\n",
       "      <td>SOBYHAJ12A6701BF1D</td>\n",
       "      <td>Constellations</td>\n",
       "      <td>In Between Dreams</td>\n",
       "      <td>Jack Johnson</td>\n",
       "      <td>2005</td>\n",
       "    </tr>\n",
       "    <tr>\n",
       "      <th>4</th>\n",
       "      <td>SODACBL12A8C13C273</td>\n",
       "      <td>Learn To Fly</td>\n",
       "      <td>There Is Nothing Left To Lose</td>\n",
       "      <td>Foo Fighters</td>\n",
       "      <td>1999</td>\n",
       "    </tr>\n",
       "    <tr>\n",
       "      <th>...</th>\n",
       "      <td>...</td>\n",
       "      <td>...</td>\n",
       "      <td>...</td>\n",
       "      <td>...</td>\n",
       "      <td>...</td>\n",
       "    </tr>\n",
       "    <tr>\n",
       "      <th>9995</th>\n",
       "      <td>SOQYVCY12A8C13AA92</td>\n",
       "      <td>B.O.B.</td>\n",
       "      <td>Big Boi &amp; Dre Present_ Outkast</td>\n",
       "      <td>OutKast</td>\n",
       "      <td>2000</td>\n",
       "    </tr>\n",
       "    <tr>\n",
       "      <th>9996</th>\n",
       "      <td>SORHFLF12A6D4F7429</td>\n",
       "      <td>Sister Seagull</td>\n",
       "      <td>Raiding The Divine Archive: The Best Of Be Bop...</td>\n",
       "      <td>Be Bop Deluxe</td>\n",
       "      <td>1975</td>\n",
       "    </tr>\n",
       "    <tr>\n",
       "      <th>9997</th>\n",
       "      <td>SOXWEPM12AB0181694</td>\n",
       "      <td>Super Honeymoon</td>\n",
       "      <td>Maybe I'm Dreaming</td>\n",
       "      <td>Owl City</td>\n",
       "      <td>2008</td>\n",
       "    </tr>\n",
       "    <tr>\n",
       "      <th>9998</th>\n",
       "      <td>SOGYQGZ12AB017E08A</td>\n",
       "      <td>Compañera</td>\n",
       "      <td>Silvio</td>\n",
       "      <td>Silvio Rodríguez</td>\n",
       "      <td>0</td>\n",
       "    </tr>\n",
       "    <tr>\n",
       "      <th>9999</th>\n",
       "      <td>SOPBPHJ12AAF3B59B6</td>\n",
       "      <td>Baby [You've Got What It Takes] [with Sharon J...</td>\n",
       "      <td>Crazy Love</td>\n",
       "      <td>Michael Bublé</td>\n",
       "      <td>2009</td>\n",
       "    </tr>\n",
       "  </tbody>\n",
       "</table>\n",
       "<p>10000 rows × 5 columns</p>\n",
       "</div>"
      ],
      "text/plain": [
       "                 song_id                                              title  \\\n",
       "0     SOAKIMP12A8C130995                                           The Cove   \n",
       "1     SOBBMDR12A8C13253B                                    Entre Dos Aguas   \n",
       "2     SOBXHDL12A81C204C0                                           Stronger   \n",
       "3     SOBYHAJ12A6701BF1D                                     Constellations   \n",
       "4     SODACBL12A8C13C273                                       Learn To Fly   \n",
       "...                  ...                                                ...   \n",
       "9995  SOQYVCY12A8C13AA92                                             B.O.B.   \n",
       "9996  SORHFLF12A6D4F7429                                     Sister Seagull   \n",
       "9997  SOXWEPM12AB0181694                                    Super Honeymoon   \n",
       "9998  SOGYQGZ12AB017E08A                                          Compañera   \n",
       "9999  SOPBPHJ12AAF3B59B6  Baby [You've Got What It Takes] [with Sharon J...   \n",
       "\n",
       "                                                release       artist_name  \\\n",
       "0                                    Thicker Than Water      Jack Johnson   \n",
       "1                                   Flamenco Para Niños     Paco De Lucia   \n",
       "2                                            Graduation        Kanye West   \n",
       "3                                     In Between Dreams      Jack Johnson   \n",
       "4                         There Is Nothing Left To Lose      Foo Fighters   \n",
       "...                                                 ...               ...   \n",
       "9995                     Big Boi & Dre Present_ Outkast           OutKast   \n",
       "9996  Raiding The Divine Archive: The Best Of Be Bop...     Be Bop Deluxe   \n",
       "9997                                 Maybe I'm Dreaming          Owl City   \n",
       "9998                                             Silvio  Silvio Rodríguez   \n",
       "9999                                         Crazy Love     Michael Bublé   \n",
       "\n",
       "      year  \n",
       "0        0  \n",
       "1     1976  \n",
       "2     2007  \n",
       "3     2005  \n",
       "4     1999  \n",
       "...    ...  \n",
       "9995  2000  \n",
       "9996  1975  \n",
       "9997  2008  \n",
       "9998     0  \n",
       "9999  2009  \n",
       "\n",
       "[10000 rows x 5 columns]"
      ]
     },
     "execution_count": 7,
     "metadata": {},
     "output_type": "execute_result"
    }
   ],
   "source": [
    "songs_with_ratings"
   ]
  },
  {
   "cell_type": "code",
   "execution_count": 12,
   "metadata": {},
   "outputs": [
    {
     "data": {
      "text/plain": [
       "(10000,)"
      ]
     },
     "execution_count": 12,
     "metadata": {},
     "output_type": "execute_result"
    }
   ],
   "source": [
    "songs_with_ratings['song_id'].unique().shape"
   ]
  },
  {
   "cell_type": "code",
   "execution_count": 8,
   "metadata": {},
   "outputs": [],
   "source": [
    "songs_with_ratings_dict = songs_with_ratings.to_dict('records')"
   ]
  },
  {
   "cell_type": "code",
   "execution_count": 9,
   "metadata": {},
   "outputs": [
    {
     "data": {
      "text/plain": [
       "{'song_id': 'SOAKIMP12A8C130995',\n",
       " 'title': 'The Cove',\n",
       " 'release': 'Thicker Than Water',\n",
       " 'artist_name': 'Jack Johnson',\n",
       " 'year': 0}"
      ]
     },
     "execution_count": 9,
     "metadata": {},
     "output_type": "execute_result"
    }
   ],
   "source": [
    "songs_with_ratings_dict[0]"
   ]
  },
  {
   "cell_type": "code",
   "execution_count": 11,
   "metadata": {},
   "outputs": [],
   "source": [
    "songs_with_ratings.to_csv(\"missing_song_to_db.csv\", index=False)"
   ]
  }
 ],
 "metadata": {
  "kernelspec": {
   "display_name": "Python 3",
   "language": "python",
   "name": "python3"
  },
  "language_info": {
   "codemirror_mode": {
    "name": "ipython",
    "version": 3
   },
   "file_extension": ".py",
   "mimetype": "text/x-python",
   "name": "python",
   "nbconvert_exporter": "python",
   "pygments_lexer": "ipython3",
   "version": "3.9.2"
  },
  "orig_nbformat": 4
 },
 "nbformat": 4,
 "nbformat_minor": 2
}
